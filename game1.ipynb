{
 "cells": [
  {
   "cell_type": "code",
   "execution_count": null,
   "metadata": {},
   "outputs": [],
   "source": [
    "# number 0-99\n",
    "# guess one number in one round\n",
    "# if you get the right ans win\n",
    "#else guess again(5 chances)\n",
    "#loss if used up all chances\n",
    "\n",
    "#>>> please input a num : (0-99): 50\n",
    "#>>> try again\n",
    "# life ****\n",
    "# >> please inputa number: (0-49) : 30\n",
    "# try again\n",
    "# life ***\n",
    "# >> please inputa number: (31-49) : 48\n",
    "# Bingo\n",
    "# END\n",
    "\n",
    "\n"
   ]
  },
  {
   "cell_type": "code",
   "execution_count": 7,
   "metadata": {},
   "outputs": [],
   "source": [
    "\n",
    "        "
   ]
  },
  {
   "cell_type": "code",
   "execution_count": null,
   "metadata": {},
   "outputs": [],
   "source": []
  },
  {
   "cell_type": "code",
   "execution_count": null,
   "metadata": {},
   "outputs": [],
   "source": [
    "#main\n",
    "## setup game\n",
    "#\n",
    "#\n",
    "\n",
    "guess_num = get_input()\n",
    "check_result(ans,guess_num)\n",
    "if win > done\n",
    "else: goto guess num if you still alive"
   ]
  },
  {
   "cell_type": "code",
   "execution_count": null,
   "metadata": {},
   "outputs": [],
   "source": [
    "def get_input(start_range,end_range,numlife):\n",
    "    while True:\n",
    "        print('Life: {}'.format('*'*numlife))\n",
    "        guess_num = input ('Please input a number in range ({}-{}): '.format(start_range, end_range))\n",
    "        if guess_num.isdigit():\n",
    "            if(int(guess_num))\n",
    "              \n",
    "                \n",
    "                \n",
    "                \n",
    "                \n",
    "                \n",
    "    \n",
    "    "
   ]
  },
  {
   "cell_type": "code",
   "execution_count": null,
   "metadata": {},
   "outputs": [],
   "source": []
  },
  {
   "cell_type": "code",
   "execution_count": null,
   "metadata": {},
   "outputs": [],
   "source": []
  },
  {
   "cell_type": "code",
   "execution_count": null,
   "metadata": {},
   "outputs": [],
   "source": []
  }
 ],
 "metadata": {
  "kernelspec": {
   "display_name": "Python 3",
   "language": "python",
   "name": "python3"
  },
  "language_info": {
   "codemirror_mode": {
    "name": "ipython",
    "version": 3
   },
   "file_extension": ".py",
   "mimetype": "text/x-python",
   "name": "python",
   "nbconvert_exporter": "python",
   "pygments_lexer": "ipython3",
   "version": "3.8.3"
  }
 },
 "nbformat": 4,
 "nbformat_minor": 4
}
