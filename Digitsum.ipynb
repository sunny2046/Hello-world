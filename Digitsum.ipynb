{
 "cells": [
  {
   "cell_type": "code",
   "execution_count": 21,
   "metadata": {},
   "outputs": [
    {
     "name": "stdout",
     "output_type": "stream",
     "text": [
      "106\n",
      "115\n",
      "124\n",
      "133\n",
      "142\n",
      "151\n",
      "160\n",
      "205\n",
      "214\n",
      "223\n",
      "232\n",
      "241\n",
      "250\n",
      "304\n",
      "313\n",
      "322\n",
      "331\n",
      "340\n",
      "403\n",
      "412\n",
      "421\n",
      "430\n",
      "502\n",
      "511\n",
      "520\n",
      "601\n",
      "610\n",
      "700\n"
     ]
    }
   ],
   "source": [
    "for a in range (100,999):\n",
    "    b = str(a)\n",
    "    c = 0\n",
    "    for x in b:\n",
    "        c += int(x)\n",
    "    if c == 7:\n",
    "        print (a)\n",
    "       \n",
    "    "
   ]
  },
  {
   "cell_type": "code",
   "execution_count": null,
   "metadata": {},
   "outputs": [],
   "source": []
  }
 ],
 "metadata": {
  "kernelspec": {
   "display_name": "Python 3",
   "language": "python",
   "name": "python3"
  },
  "language_info": {
   "codemirror_mode": {
    "name": "ipython",
    "version": 3
   },
   "file_extension": ".py",
   "mimetype": "text/x-python",
   "name": "python",
   "nbconvert_exporter": "python",
   "pygments_lexer": "ipython3",
   "version": "3.8.3"
  }
 },
 "nbformat": 4,
 "nbformat_minor": 4
}
